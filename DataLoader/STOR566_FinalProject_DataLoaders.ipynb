{
  "nbformat": 4,
  "nbformat_minor": 0,
  "metadata": {
    "colab": {
      "provenance": [],
      "collapsed_sections": []
    },
    "kernelspec": {
      "name": "python3",
      "display_name": "Python 3"
    },
    "language_info": {
      "name": "python"
    }
  },
  "cells": [
    {
      "cell_type": "code",
      "execution_count": null,
      "metadata": {
        "colab": {
          "base_uri": "https://localhost:8080/"
        },
        "id": "TKSOsMw3KIwy",
        "outputId": "1dc92783-afc8-4d7a-d2e8-5ecc94d6e349"
      },
      "outputs": [
        {
          "output_type": "stream",
          "name": "stdout",
          "text": [
            "Mounted at /content/drive\n"
          ]
        }
      ],
      "source": [
        "import numpy as np\n",
        "import pandas as pd\n",
        "import torch\n",
        "from torch.utils.data import Dataset, DataLoader\n",
        "from torchvision import transforms, utils\n",
        "import os\n",
        "from google.colab import drive \n",
        "import re\n",
        "import zipfile\n",
        "from torchtext.data.utils import get_tokenizer\n",
        "from torchtext.vocab import build_vocab_from_iterator\n",
        "drive.mount('/content/drive')\n",
        "os.chdir('/content/drive/MyDrive/STOR566_FinalProject/data')"
      ]
    },
    {
      "cell_type": "code",
      "source": [
        "def txt_cleaner(string):\n",
        "    string = re.sub('<[^<]+?>', '', string) #removes html\n",
        "    string = re.sub(r'[^\\w\\s]', '', string) #removes everything but letters/numbers and whitespace\n",
        "    return string.lower() #Makes all characters lowercase\n",
        "    # Should we implement a method to correct mispellings too? Seems like maybe too much effort..."
      ],
      "metadata": {
        "id": "V794x_Q5g-UE"
      },
      "execution_count": null,
      "outputs": []
    },
    {
      "cell_type": "code",
      "source": [
        "#https://github.com/neilpl24/STOR566/data/IMDB Dataset.csv.zip\n",
        "#https://github.com/neilpl24/STOR566/data/Restaurant_Reviews.tsv\n",
        "\n",
        "url_test = 'https://raw.githubusercontent.com/neilpl24/STOR566/main/data/Restaurant_Reviews.tsv'\n",
        "df_test = pd.read_csv(url_test, sep = '\\t')\n",
        "df_test.rename(columns={'Review':'review', 'Liked':'label'}, inplace=True)\n",
        "df_test[\"review\"] = df_test[\"review\"].apply(txt_cleaner)"
      ],
      "metadata": {
        "id": "-SYo_kqPKZWD"
      },
      "execution_count": null,
      "outputs": []
    },
    {
      "cell_type": "code",
      "source": [
        "df_test.head()"
      ],
      "metadata": {
        "colab": {
          "base_uri": "https://localhost:8080/",
          "height": 201
        },
        "id": "mcxp3q2TbrOP",
        "outputId": "3dee11a0-9b18-4790-80a0-4d3459934a93"
      },
      "execution_count": null,
      "outputs": [
        {
          "output_type": "execute_result",
          "data": {
            "text/plain": [
              "                                              review  label\n",
              "0                               wow loved this place      1\n",
              "1                                  crust is not good      0\n",
              "2           not tasty and the texture was just nasty      0\n",
              "3  stopped by during the late may bank holiday of...      1\n",
              "4  the selection on the menu was great and so wer...      1"
            ],
            "text/html": [
              "\n",
              "  <div id=\"df-4402da10-beb1-4e04-944f-7be20ae94a1b\">\n",
              "    <div class=\"colab-df-container\">\n",
              "      <div>\n",
              "<style scoped>\n",
              "    .dataframe tbody tr th:only-of-type {\n",
              "        vertical-align: middle;\n",
              "    }\n",
              "\n",
              "    .dataframe tbody tr th {\n",
              "        vertical-align: top;\n",
              "    }\n",
              "\n",
              "    .dataframe thead th {\n",
              "        text-align: right;\n",
              "    }\n",
              "</style>\n",
              "<table border=\"1\" class=\"dataframe\">\n",
              "  <thead>\n",
              "    <tr style=\"text-align: right;\">\n",
              "      <th></th>\n",
              "      <th>review</th>\n",
              "      <th>label</th>\n",
              "    </tr>\n",
              "  </thead>\n",
              "  <tbody>\n",
              "    <tr>\n",
              "      <th>0</th>\n",
              "      <td>wow loved this place</td>\n",
              "      <td>1</td>\n",
              "    </tr>\n",
              "    <tr>\n",
              "      <th>1</th>\n",
              "      <td>crust is not good</td>\n",
              "      <td>0</td>\n",
              "    </tr>\n",
              "    <tr>\n",
              "      <th>2</th>\n",
              "      <td>not tasty and the texture was just nasty</td>\n",
              "      <td>0</td>\n",
              "    </tr>\n",
              "    <tr>\n",
              "      <th>3</th>\n",
              "      <td>stopped by during the late may bank holiday of...</td>\n",
              "      <td>1</td>\n",
              "    </tr>\n",
              "    <tr>\n",
              "      <th>4</th>\n",
              "      <td>the selection on the menu was great and so wer...</td>\n",
              "      <td>1</td>\n",
              "    </tr>\n",
              "  </tbody>\n",
              "</table>\n",
              "</div>\n",
              "      <button class=\"colab-df-convert\" onclick=\"convertToInteractive('df-4402da10-beb1-4e04-944f-7be20ae94a1b')\"\n",
              "              title=\"Convert this dataframe to an interactive table.\"\n",
              "              style=\"display:none;\">\n",
              "        \n",
              "  <svg xmlns=\"http://www.w3.org/2000/svg\" height=\"24px\"viewBox=\"0 0 24 24\"\n",
              "       width=\"24px\">\n",
              "    <path d=\"M0 0h24v24H0V0z\" fill=\"none\"/>\n",
              "    <path d=\"M18.56 5.44l.94 2.06.94-2.06 2.06-.94-2.06-.94-.94-2.06-.94 2.06-2.06.94zm-11 1L8.5 8.5l.94-2.06 2.06-.94-2.06-.94L8.5 2.5l-.94 2.06-2.06.94zm10 10l.94 2.06.94-2.06 2.06-.94-2.06-.94-.94-2.06-.94 2.06-2.06.94z\"/><path d=\"M17.41 7.96l-1.37-1.37c-.4-.4-.92-.59-1.43-.59-.52 0-1.04.2-1.43.59L10.3 9.45l-7.72 7.72c-.78.78-.78 2.05 0 2.83L4 21.41c.39.39.9.59 1.41.59.51 0 1.02-.2 1.41-.59l7.78-7.78 2.81-2.81c.8-.78.8-2.07 0-2.86zM5.41 20L4 18.59l7.72-7.72 1.47 1.35L5.41 20z\"/>\n",
              "  </svg>\n",
              "      </button>\n",
              "      \n",
              "  <style>\n",
              "    .colab-df-container {\n",
              "      display:flex;\n",
              "      flex-wrap:wrap;\n",
              "      gap: 12px;\n",
              "    }\n",
              "\n",
              "    .colab-df-convert {\n",
              "      background-color: #E8F0FE;\n",
              "      border: none;\n",
              "      border-radius: 50%;\n",
              "      cursor: pointer;\n",
              "      display: none;\n",
              "      fill: #1967D2;\n",
              "      height: 32px;\n",
              "      padding: 0 0 0 0;\n",
              "      width: 32px;\n",
              "    }\n",
              "\n",
              "    .colab-df-convert:hover {\n",
              "      background-color: #E2EBFA;\n",
              "      box-shadow: 0px 1px 2px rgba(60, 64, 67, 0.3), 0px 1px 3px 1px rgba(60, 64, 67, 0.15);\n",
              "      fill: #174EA6;\n",
              "    }\n",
              "\n",
              "    [theme=dark] .colab-df-convert {\n",
              "      background-color: #3B4455;\n",
              "      fill: #D2E3FC;\n",
              "    }\n",
              "\n",
              "    [theme=dark] .colab-df-convert:hover {\n",
              "      background-color: #434B5C;\n",
              "      box-shadow: 0px 1px 3px 1px rgba(0, 0, 0, 0.15);\n",
              "      filter: drop-shadow(0px 1px 2px rgba(0, 0, 0, 0.3));\n",
              "      fill: #FFFFFF;\n",
              "    }\n",
              "  </style>\n",
              "\n",
              "      <script>\n",
              "        const buttonEl =\n",
              "          document.querySelector('#df-4402da10-beb1-4e04-944f-7be20ae94a1b button.colab-df-convert');\n",
              "        buttonEl.style.display =\n",
              "          google.colab.kernel.accessAllowed ? 'block' : 'none';\n",
              "\n",
              "        async function convertToInteractive(key) {\n",
              "          const element = document.querySelector('#df-4402da10-beb1-4e04-944f-7be20ae94a1b');\n",
              "          const dataTable =\n",
              "            await google.colab.kernel.invokeFunction('convertToInteractive',\n",
              "                                                     [key], {});\n",
              "          if (!dataTable) return;\n",
              "\n",
              "          const docLinkHtml = 'Like what you see? Visit the ' +\n",
              "            '<a target=\"_blank\" href=https://colab.research.google.com/notebooks/data_table.ipynb>data table notebook</a>'\n",
              "            + ' to learn more about interactive tables.';\n",
              "          element.innerHTML = '';\n",
              "          dataTable['output_type'] = 'display_data';\n",
              "          await google.colab.output.renderOutput(dataTable, element);\n",
              "          const docLink = document.createElement('div');\n",
              "          docLink.innerHTML = docLinkHtml;\n",
              "          element.appendChild(docLink);\n",
              "        }\n",
              "      </script>\n",
              "    </div>\n",
              "  </div>\n",
              "  "
            ]
          },
          "metadata": {},
          "execution_count": 4
        }
      ]
    },
    {
      "cell_type": "code",
      "source": [
        "url_train = \"https://raw.githubusercontent.com/neilpl24/STOR566/main/data/IMDB_Dataset.csv\"\n",
        "df_train = pd.read_csv(url_train)"
      ],
      "metadata": {
        "id": "vHubk8F-TugF"
      },
      "execution_count": null,
      "outputs": []
    },
    {
      "cell_type": "code",
      "source": [
        "# Workaround for if Github link isn't working - put .zip file in your working google drive directory\n",
        "\n",
        "# import zipfile\n",
        "\n",
        "# zf = zipfile.ZipFile('IMDB Dataset.csv.zip') \n",
        "# df_train = pd.read_csv(zf.open('IMDB Dataset.csv'))"
      ],
      "metadata": {
        "id": "u_0cLhc3aQC8"
      },
      "execution_count": null,
      "outputs": []
    },
    {
      "cell_type": "code",
      "source": [
        "df_train[\"label\"] = 1\n",
        "for i in range(len(df_train)):\n",
        "    if df_train.loc[i, \"sentiment\"] == \"negative\":\n",
        "        df_train.loc[i, \"label\"] = 0\n",
        "df_train.drop(columns = [\"sentiment\"], inplace=True)\n",
        "df_train[\"review\"] = df_train[\"review\"].apply(txt_cleaner)"
      ],
      "metadata": {
        "id": "8m4gcwOtbjC7"
      },
      "execution_count": null,
      "outputs": []
    },
    {
      "cell_type": "code",
      "source": [
        "df_train.head()"
      ],
      "metadata": {
        "colab": {
          "base_uri": "https://localhost:8080/",
          "height": 201
        },
        "id": "kCdiIbXkg14R",
        "outputId": "c7000dc2-8c32-4b9c-a249-1cfa86d74bca"
      },
      "execution_count": null,
      "outputs": [
        {
          "output_type": "execute_result",
          "data": {
            "text/plain": [
              "                                              review  label\n",
              "0  one of the other reviewers has mentioned that ...      1\n",
              "1  a wonderful little production the filming tech...      1\n",
              "2  i thought this was a wonderful way to spend ti...      1\n",
              "3  basically theres a family where a little boy j...      0\n",
              "4  petter matteis love in the time of money is a ...      1"
            ],
            "text/html": [
              "\n",
              "  <div id=\"df-3d173a15-dcfd-4636-92bc-7e30ae894b94\">\n",
              "    <div class=\"colab-df-container\">\n",
              "      <div>\n",
              "<style scoped>\n",
              "    .dataframe tbody tr th:only-of-type {\n",
              "        vertical-align: middle;\n",
              "    }\n",
              "\n",
              "    .dataframe tbody tr th {\n",
              "        vertical-align: top;\n",
              "    }\n",
              "\n",
              "    .dataframe thead th {\n",
              "        text-align: right;\n",
              "    }\n",
              "</style>\n",
              "<table border=\"1\" class=\"dataframe\">\n",
              "  <thead>\n",
              "    <tr style=\"text-align: right;\">\n",
              "      <th></th>\n",
              "      <th>review</th>\n",
              "      <th>label</th>\n",
              "    </tr>\n",
              "  </thead>\n",
              "  <tbody>\n",
              "    <tr>\n",
              "      <th>0</th>\n",
              "      <td>one of the other reviewers has mentioned that ...</td>\n",
              "      <td>1</td>\n",
              "    </tr>\n",
              "    <tr>\n",
              "      <th>1</th>\n",
              "      <td>a wonderful little production the filming tech...</td>\n",
              "      <td>1</td>\n",
              "    </tr>\n",
              "    <tr>\n",
              "      <th>2</th>\n",
              "      <td>i thought this was a wonderful way to spend ti...</td>\n",
              "      <td>1</td>\n",
              "    </tr>\n",
              "    <tr>\n",
              "      <th>3</th>\n",
              "      <td>basically theres a family where a little boy j...</td>\n",
              "      <td>0</td>\n",
              "    </tr>\n",
              "    <tr>\n",
              "      <th>4</th>\n",
              "      <td>petter matteis love in the time of money is a ...</td>\n",
              "      <td>1</td>\n",
              "    </tr>\n",
              "  </tbody>\n",
              "</table>\n",
              "</div>\n",
              "      <button class=\"colab-df-convert\" onclick=\"convertToInteractive('df-3d173a15-dcfd-4636-92bc-7e30ae894b94')\"\n",
              "              title=\"Convert this dataframe to an interactive table.\"\n",
              "              style=\"display:none;\">\n",
              "        \n",
              "  <svg xmlns=\"http://www.w3.org/2000/svg\" height=\"24px\"viewBox=\"0 0 24 24\"\n",
              "       width=\"24px\">\n",
              "    <path d=\"M0 0h24v24H0V0z\" fill=\"none\"/>\n",
              "    <path d=\"M18.56 5.44l.94 2.06.94-2.06 2.06-.94-2.06-.94-.94-2.06-.94 2.06-2.06.94zm-11 1L8.5 8.5l.94-2.06 2.06-.94-2.06-.94L8.5 2.5l-.94 2.06-2.06.94zm10 10l.94 2.06.94-2.06 2.06-.94-2.06-.94-.94-2.06-.94 2.06-2.06.94z\"/><path d=\"M17.41 7.96l-1.37-1.37c-.4-.4-.92-.59-1.43-.59-.52 0-1.04.2-1.43.59L10.3 9.45l-7.72 7.72c-.78.78-.78 2.05 0 2.83L4 21.41c.39.39.9.59 1.41.59.51 0 1.02-.2 1.41-.59l7.78-7.78 2.81-2.81c.8-.78.8-2.07 0-2.86zM5.41 20L4 18.59l7.72-7.72 1.47 1.35L5.41 20z\"/>\n",
              "  </svg>\n",
              "      </button>\n",
              "      \n",
              "  <style>\n",
              "    .colab-df-container {\n",
              "      display:flex;\n",
              "      flex-wrap:wrap;\n",
              "      gap: 12px;\n",
              "    }\n",
              "\n",
              "    .colab-df-convert {\n",
              "      background-color: #E8F0FE;\n",
              "      border: none;\n",
              "      border-radius: 50%;\n",
              "      cursor: pointer;\n",
              "      display: none;\n",
              "      fill: #1967D2;\n",
              "      height: 32px;\n",
              "      padding: 0 0 0 0;\n",
              "      width: 32px;\n",
              "    }\n",
              "\n",
              "    .colab-df-convert:hover {\n",
              "      background-color: #E2EBFA;\n",
              "      box-shadow: 0px 1px 2px rgba(60, 64, 67, 0.3), 0px 1px 3px 1px rgba(60, 64, 67, 0.15);\n",
              "      fill: #174EA6;\n",
              "    }\n",
              "\n",
              "    [theme=dark] .colab-df-convert {\n",
              "      background-color: #3B4455;\n",
              "      fill: #D2E3FC;\n",
              "    }\n",
              "\n",
              "    [theme=dark] .colab-df-convert:hover {\n",
              "      background-color: #434B5C;\n",
              "      box-shadow: 0px 1px 3px 1px rgba(0, 0, 0, 0.15);\n",
              "      filter: drop-shadow(0px 1px 2px rgba(0, 0, 0, 0.3));\n",
              "      fill: #FFFFFF;\n",
              "    }\n",
              "  </style>\n",
              "\n",
              "      <script>\n",
              "        const buttonEl =\n",
              "          document.querySelector('#df-3d173a15-dcfd-4636-92bc-7e30ae894b94 button.colab-df-convert');\n",
              "        buttonEl.style.display =\n",
              "          google.colab.kernel.accessAllowed ? 'block' : 'none';\n",
              "\n",
              "        async function convertToInteractive(key) {\n",
              "          const element = document.querySelector('#df-3d173a15-dcfd-4636-92bc-7e30ae894b94');\n",
              "          const dataTable =\n",
              "            await google.colab.kernel.invokeFunction('convertToInteractive',\n",
              "                                                     [key], {});\n",
              "          if (!dataTable) return;\n",
              "\n",
              "          const docLinkHtml = 'Like what you see? Visit the ' +\n",
              "            '<a target=\"_blank\" href=https://colab.research.google.com/notebooks/data_table.ipynb>data table notebook</a>'\n",
              "            + ' to learn more about interactive tables.';\n",
              "          element.innerHTML = '';\n",
              "          dataTable['output_type'] = 'display_data';\n",
              "          await google.colab.output.renderOutput(dataTable, element);\n",
              "          const docLink = document.createElement('div');\n",
              "          docLink.innerHTML = docLinkHtml;\n",
              "          element.appendChild(docLink);\n",
              "        }\n",
              "      </script>\n",
              "    </div>\n",
              "  </div>\n",
              "  "
            ]
          },
          "metadata": {},
          "execution_count": 7
        }
      ]
    },
    {
      "cell_type": "code",
      "source": [
        "class TextDataset(Dataset):\n",
        "    \"\"\"Text dataset.\"\"\"\n",
        "\n",
        "    def __init__(self, df, transform=None):\n",
        "        \"\"\"\n",
        "        Args:\n",
        "            df (DataFrame): dataframe to work with.\n",
        "            root_dir (string): Directory with all the images.\n",
        "            transform (callable, optional): Optional transform to be applied\n",
        "                on a sample.\n",
        "        \"\"\"\n",
        "        self.df = df\n",
        "        self.transform = transform\n",
        "\n",
        "    def __len__(self):\n",
        "        return len(self.df)\n",
        "\n",
        "    def __getitem__(self, idx):\n",
        "        if torch.is_tensor(idx):\n",
        "            idx = idx.tolist()\n",
        "\n",
        "        label = self.df.iloc[idx, 1]\n",
        "        review = self.df.iloc[idx, 0]\n",
        "        #review = np.array([review])\n",
        "        #sample = {'review': review, 'label': label}\n",
        "\n",
        "        if self.transform:\n",
        "            review = self.transform(review)\n",
        "\n",
        "        return review, label"
      ],
      "metadata": {
        "id": "FpA4fceImvMg"
      },
      "execution_count": null,
      "outputs": []
    },
    {
      "cell_type": "code",
      "source": [
        "# Padding dataFrame vals to length 256 - either cutting to that length or 0-padding up to it\n",
        "def padding(df, pad_len):\n",
        "    '''Zero Pad tokens listed under \"review\" in a dataset to a pad length and return new dataset'''\n",
        "    new_df = df[[\"label\"]]\n",
        "    features = []\n",
        "    for i in range(len(df)):\n",
        "        feature = np.zeros(pad_len, dtype=int)\n",
        "        for v in range(min(pad_len, len(df.loc[i, \"review\"]))):\n",
        "            feature[v] = df.loc[i, \"review\"][v]\n",
        "        features.append(feature)\n",
        "    new_df['review'] = [features[j] for j in new_df.index]\n",
        "    return new_df"
      ],
      "metadata": {
        "id": "3yaTudeLc3nF"
      },
      "execution_count": null,
      "outputs": []
    },
    {
      "cell_type": "code",
      "source": [
        "tokenizer = get_tokenizer('basic_english')\n",
        "\n",
        "def yield_tokens(data_iter):\n",
        "    for batch, _ in data_iter:\n",
        "        yield tokenizer(batch)\n",
        "\n",
        "def processing_func(train_df_orig, test_df_orig):\n",
        "    train_df = train_df_orig\n",
        "    test_df = test_df_orig\n",
        "\n",
        "    train_dataset = TextDataset(df = train_df)\n",
        "\n",
        "    tokenizer = get_tokenizer('basic_english')\n",
        "    train_iter = iter(train_dataset)\n",
        "\n",
        "    vocab = build_vocab_from_iterator(yield_tokens(train_iter), specials=[\"<unk>\"])\n",
        "    vocab.set_default_index(vocab[\"<unk>\"])\n",
        "\n",
        "    train_df[\"tokens\"] = train_df[\"review\"].apply(lambda x: vocab(tokenizer(x)))\n",
        "    train_df.drop([\"review\"], axis = 1, inplace=True)\n",
        "    train_df.rename(columns = {\"tokens\":\"review\"}, inplace=True)\n",
        "    train_df = train_df[[\"review\", \"label\"]]\n",
        "\n",
        "    test_df[\"tokens\"] = test_df[\"review\"].apply(lambda x: vocab(tokenizer(x)))\n",
        "    test_df.drop([\"review\"], axis = 1, inplace=True)\n",
        "    test_df.rename(columns = {\"tokens\":\"review\"}, inplace=True)\n",
        "    test_df = test_df[[\"review\", \"label\"]]    \n",
        "\n",
        "    train_df = padding(train_df, 256)\n",
        "    test_df = padding(test_df, 256)\n",
        "\n",
        "    return train_df, test_df"
      ],
      "metadata": {
        "id": "s4SyFCuCpuUP"
      },
      "execution_count": null,
      "outputs": []
    },
    {
      "cell_type": "code",
      "source": [
        "df_train_tokenized, df_test_tokenized = processing_func(df_train, df_test)"
      ],
      "metadata": {
        "id": "rF1MYbsMrUQH"
      },
      "execution_count": null,
      "outputs": []
    },
    {
      "cell_type": "code",
      "source": [
        "device = torch.device(\"cuda\" if torch.cuda.is_available() else \"cpu\")\n",
        "\n",
        "train_iter = TextDataset(df = df_train_tokenized)\n",
        "train_dataloader = DataLoader(train_iter, batch_size=8, shuffle=False)\n",
        "test_iter = TextDataset(df_test_tokenized)\n",
        "test_dataloader = DataLoader(test_iter, batch_size=8, shuffle=False)"
      ],
      "metadata": {
        "id": "ZQwwkp72sdJO"
      },
      "execution_count": null,
      "outputs": []
    },
    {
      "cell_type": "code",
      "source": [
        "next(iter(train_dataloader))"
      ],
      "metadata": {
        "colab": {
          "base_uri": "https://localhost:8080/"
        },
        "id": "JxpjVw_Q1PeC",
        "outputId": "217f1872-8bf8-42b7-e0df-5b0ae72a72b2"
      },
      "execution_count": null,
      "outputs": [
        {
          "output_type": "execute_result",
          "data": {
            "text/plain": [
              "[tensor([1, 1, 1, 0, 1, 1, 1, 0]),\n",
              " tensor([[  27,    4,    1,  ...,   19,  610,    2],\n",
              "         [   3,  382,  113,  ...,    0,    0,    0],\n",
              "         [   9,  191,   10,  ...,    0,    0,    0],\n",
              "         ...,\n",
              "         [ 233,   55, 3747,  ...,    0,    0,    0],\n",
              "         [   9,  246,   56,  ...,    0,    0,    0],\n",
              "         [  10,  117,   12,  ...,    0,    0,    0]])]"
            ]
          },
          "metadata": {},
          "execution_count": 96
        }
      ]
    },
    {
      "cell_type": "code",
      "source": [
        "for zero, batch in enumerate(train_dataloader):\n",
        "    print(batch)\n",
        "    break"
      ],
      "metadata": {
        "colab": {
          "base_uri": "https://localhost:8080/"
        },
        "id": "I2js__FerXrq",
        "outputId": "218db84a-3a77-4c5b-fd91-2d56a71ba2e0"
      },
      "execution_count": null,
      "outputs": [
        {
          "output_type": "stream",
          "name": "stdout",
          "text": [
            "[tensor([1, 1, 1, 0, 1, 1, 1, 0]), tensor([[  27,    4,    1,  ...,   19,  610,    2],\n",
            "        [   3,  382,  113,  ...,    0,    0,    0],\n",
            "        [   9,  191,   10,  ...,    0,    0,    0],\n",
            "        ...,\n",
            "        [ 233,   55, 3747,  ...,    0,    0,    0],\n",
            "        [   9,  246,   56,  ...,    0,    0,    0],\n",
            "        [  10,  117,   12,  ...,    0,    0,    0]])]\n"
          ]
        }
      ]
    },
    {
      "cell_type": "markdown",
      "source": [
        "So as you can kind of see above, the way the batches seem to be coming out is as a list of (0, tensor), where the zero is just a placeholder (not sure why it's there) and tensor that contains 2 subtensors. If you index as \"zero, batch in enumerate(dataloader)\", during training, you'll get the batch in the tensor. The tensor contents are as follows:\n",
        "\n",
        "1st sub-tensor: The labels for the batch; 1 is positive, 0 is negative.\n",
        "\n",
        "2nd sub-tensor: A list of lists, where each list is a length-256 0-padded tokenized review that corresponds to the order of the labels.\n",
        "\n",
        "This means that each observation can be represented as follows:\n",
        "\n",
        "Observation i in batch:\n",
        "\n",
        "reviews=batch[1]\n",
        "\n",
        "labels=batch[0]\n",
        "\n",
        "review_i = reviews[i]\n",
        "\n",
        "label_i = labels[i]"
      ],
      "metadata": {
        "id": "sOnzPNimKvGp"
      }
    }
  ]
}